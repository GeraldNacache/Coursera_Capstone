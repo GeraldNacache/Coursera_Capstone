{
    "nbformat_minor": 1, 
    "cells": [
        {
            "source": "# CLUSTERING LOS ANGELES NEIGHBORHOODS\n\nGerald Nacache\ngeraldnacache@gmail.com\n\nProject link :\n\nThis notebook is submitted as first part of final assignment of Coursera Course 9 (week 4) of the IBM Professional Data Science Certificate.\n\nAs required for this week, please let me submit the following:\nA description of the problem and a discussion of the background.\nA description of the data and how it will be used to solve the problem.\n\n## Description of the Problem and Context:\n\nAn investment company invested in and took control of \u201cBest Hair Style Ever\u201d (BHSE) a hair dressing brand currently operating several hundreds hairdresser stores in Europe. \nOne of the decision made during last business strategy company meeting was to confirm a plan to establish and deploy the brand in the USA via launching stores in targeted cities. As a consequence, a first pilot project is launched, and Dan, project leader was nominated with first objective to launch 20 new stores in Los Angeles, CA. The success of this initiative is crucial for the next phases of the project and for the development of the whole company.     \n\nAmong Dan\u2019s key tasks, he needs to work with a real estate consultant to identify available venues in Los Angeles and close relevant deals as soon as possible to deploy the brand. After a first discussion with Dan\u2019s preferred real estate broker in LA, he realized that the criteria he defined for finding the stores are not accurate enough and his broker told him \na) he may spend too much time finding the right places in such a large city like LA, so he needs to identify some preferred zones within Los Angeles to focus his search, and \nb) he may not be the best person to define priorities and most relevant areas for BSHE criteria, so he needs more guidance with targeted areas.   \n\nAs a consequence, Dan contacted me and asked for some help on where I would recommend they should open the first BSHE stores in LA. \nDan and I discussed and we came to a conclusion that the problem could be solved with defining a list of preferred areas in Los Angeles issued from classifying neighborhoods based on exploring existing venues and most frequent categories of venues in each candidate zone. This way, we can identify similar neighborhoods, gather them within several clusters and choose the right cluster of areas within Los Angeles to focus on. Such output will serve as a guidance and a list of target zones for Dan\u2019s real estate broker.      \n\n\n## Description of the data that will be used to solve the problem, and how:\n\nAs Los Angeles is a large city, we have many neighborhoods to explore within the city itself (98 zip codes). During the study, we will exchange on a regular basis together with Dan on first data extracted and first explorations in order to decide if we need to extend to Los Angeles county or keep the research within Los Angeles city boundaries. First choice is for LA city only where we have 98 zip codes, knowing we have more than 507 zip codes in Los Angeles county. \n\nOnline search for location data let us find a database gathering all zip codes in Los Angeles, CA and each corresponding latitude, longitude coordinates. This database use is free to download and use; the only request is to clearly mention the link it is coming from https://simplemaps.com/data/us-zips so we will mention on each notebook or page related to the assignment. At this stage, the main info we plan to extract from this database are zip code, latitude, longitude, city, county, state. \n\nKnowing each zip code latitude and longitude, we can then explore categories of venues thanks to Foursquare API. We use the Foursquare location data to explore neighborhoods of LA, specifically categories of venues, in a similar way we did with Toronto area in the previous lab and assignment. We will use unsupervised machine learning method for classification, like k-means algorithm. \n\nSome additional kind of data may be relevant to add for a deeper exploration: the foot traffic data. Such data is available if we build a process to get it for each location and we can even explore the foot traffic depending on the time in the day.\nAdding such data would mean defining the right method of usage of Foursquare API and would mean more time and effort, whereas the method we are using has been proven with previous examples like the one in Toronto during the lab. Knowing this, Dan asked me to focus for now on the current method without foot traffic data and we can extend our study further if needed. Another reason why we did not add such data is that the consumer habits in Europe and in California are fairly different. As an example, the stores BHSE operates in Paris are in zones with very high foot traffic. But this does not mean Dan wants to follow a location strategy in LA necessarily similar to the location strategy BHSE used in Paris. \nSo we focus for now on unsupervised clustering method based on venues around the location, and within each zip code in Los Angeles, CA.\n\n\n### Additional tools for solving the problem:\n\nIn addition to Foursquare API we already mentioned, we will use jupyter notebook for all the coding and explanations of our method, process and computations.\n\nCoding will be done in python 3, and leveraging usual libraries: \nNumPy and SciPy for scientific computing, \nPandas for data extracting, cleaning and analysis,\nMatplotlib and Folium for figures, plots, maps and visualization,\nScikit-learn for machine learning, in particular we plan to use clustering k-means algorithm\n\n\n#### As a summary, \n\nThe objective is to build clusters to partitions Los Angeles, CA in similar areas and identify the most suitable areas for launching new stores for BHSE.\nWe will leverage unsupervised method like k-means clustering algorithm to classify all Los Angeles, CA zip codes. For that, we will clean and leverage Foursquare location data - specifically to explore categories of venues in the neighborhood - as well as LA city zip code location database.  \nOnce clusters are created, we will review the clusters and identify similarities within a given cluster and unsimilarities between two different clusters. Then the target cluster of areas (zip codes) will be defined and validated  \n\n\n", 
            "cell_type": "markdown", 
            "metadata": {
                "collapsed": true
            }
        }, 
        {
            "execution_count": null, 
            "cell_type": "code", 
            "metadata": {}, 
            "outputs": [], 
            "source": ""
        }
    ], 
    "metadata": {
        "kernelspec": {
            "display_name": "Python 3.5", 
            "name": "python3", 
            "language": "python"
        }, 
        "language_info": {
            "mimetype": "text/x-python", 
            "nbconvert_exporter": "python", 
            "version": "3.5.5", 
            "name": "python", 
            "file_extension": ".py", 
            "pygments_lexer": "ipython3", 
            "codemirror_mode": {
                "version": 3, 
                "name": "ipython"
            }
        }
    }, 
    "nbformat": 4
}